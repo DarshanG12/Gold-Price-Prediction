{
 "cells": [
  {
   "cell_type": "code",
   "execution_count": 34,
   "id": "c3078e3c",
   "metadata": {
    "executionInfo": {
     "elapsed": 1560,
     "status": "ok",
     "timestamp": 1655962470221,
     "user": {
      "displayName": "Naveen PL",
      "userId": "15731215887950391536"
     },
     "user_tz": -330
    },
    "id": "c3078e3c"
   },
   "outputs": [],
   "source": [
    "import numpy as np\n",
    "import pandas as pd\n",
    "import matplotlib.pyplot as plt\n",
    "import seaborn as sns\n",
    "from sklearn.model_selection import train_test_split\n",
    "from sklearn.ensemble import RandomForestRegressor\n",
    "from sklearn import metrics"
   ]
  },
  {
   "cell_type": "code",
   "execution_count": 35,
   "id": "5024c212",
   "metadata": {
    "colab": {
     "base_uri": "https://localhost:8080/",
     "height": 328
    },
    "executionInfo": {
     "elapsed": 366,
     "status": "error",
     "timestamp": 1655962517229,
     "user": {
      "displayName": "Naveen PL",
      "userId": "15731215887950391536"
     },
     "user_tz": -330
    },
    "id": "5024c212",
    "outputId": "9dce238d-1d36-4b08-c58a-d1a67171eace"
   },
   "outputs": [],
   "source": [
    "df=pd.read_csv('gld_price_data.csv')"
   ]
  },
  {
   "cell_type": "code",
   "execution_count": 36,
   "id": "8e637fea",
   "metadata": {
    "colab": {
     "base_uri": "https://localhost:8080/",
     "height": 165
    },
    "executionInfo": {
     "elapsed": 495,
     "status": "error",
     "timestamp": 1655962512536,
     "user": {
      "displayName": "Naveen PL",
      "userId": "15731215887950391536"
     },
     "user_tz": -330
    },
    "id": "8e637fea",
    "outputId": "b3c6080a-1c2c-4eb0-e400-add4ef46bb38"
   },
   "outputs": [
    {
     "data": {
      "text/html": [
       "<div>\n",
       "<style scoped>\n",
       "    .dataframe tbody tr th:only-of-type {\n",
       "        vertical-align: middle;\n",
       "    }\n",
       "\n",
       "    .dataframe tbody tr th {\n",
       "        vertical-align: top;\n",
       "    }\n",
       "\n",
       "    .dataframe thead th {\n",
       "        text-align: right;\n",
       "    }\n",
       "</style>\n",
       "<table border=\"1\" class=\"dataframe\">\n",
       "  <thead>\n",
       "    <tr style=\"text-align: right;\">\n",
       "      <th></th>\n",
       "      <th>Date</th>\n",
       "      <th>SPX</th>\n",
       "      <th>GLD</th>\n",
       "      <th>USO</th>\n",
       "      <th>SLV</th>\n",
       "      <th>EUR/USD</th>\n",
       "    </tr>\n",
       "  </thead>\n",
       "  <tbody>\n",
       "    <tr>\n",
       "      <th>0</th>\n",
       "      <td>1/2/2008</td>\n",
       "      <td>1447.160034</td>\n",
       "      <td>84.860001</td>\n",
       "      <td>78.470001</td>\n",
       "      <td>15.180</td>\n",
       "      <td>1.471692</td>\n",
       "    </tr>\n",
       "    <tr>\n",
       "      <th>1</th>\n",
       "      <td>1/3/2008</td>\n",
       "      <td>1447.160034</td>\n",
       "      <td>85.570000</td>\n",
       "      <td>78.370003</td>\n",
       "      <td>15.285</td>\n",
       "      <td>1.474491</td>\n",
       "    </tr>\n",
       "    <tr>\n",
       "      <th>2</th>\n",
       "      <td>1/4/2008</td>\n",
       "      <td>1411.630005</td>\n",
       "      <td>85.129997</td>\n",
       "      <td>77.309998</td>\n",
       "      <td>15.167</td>\n",
       "      <td>1.475492</td>\n",
       "    </tr>\n",
       "    <tr>\n",
       "      <th>3</th>\n",
       "      <td>1/7/2008</td>\n",
       "      <td>1416.180054</td>\n",
       "      <td>84.769997</td>\n",
       "      <td>75.500000</td>\n",
       "      <td>15.053</td>\n",
       "      <td>1.468299</td>\n",
       "    </tr>\n",
       "    <tr>\n",
       "      <th>4</th>\n",
       "      <td>1/8/2008</td>\n",
       "      <td>1390.189941</td>\n",
       "      <td>86.779999</td>\n",
       "      <td>76.059998</td>\n",
       "      <td>15.590</td>\n",
       "      <td>1.557099</td>\n",
       "    </tr>\n",
       "  </tbody>\n",
       "</table>\n",
       "</div>"
      ],
      "text/plain": [
       "       Date          SPX        GLD        USO     SLV   EUR/USD\n",
       "0  1/2/2008  1447.160034  84.860001  78.470001  15.180  1.471692\n",
       "1  1/3/2008  1447.160034  85.570000  78.370003  15.285  1.474491\n",
       "2  1/4/2008  1411.630005  85.129997  77.309998  15.167  1.475492\n",
       "3  1/7/2008  1416.180054  84.769997  75.500000  15.053  1.468299\n",
       "4  1/8/2008  1390.189941  86.779999  76.059998  15.590  1.557099"
      ]
     },
     "execution_count": 36,
     "metadata": {},
     "output_type": "execute_result"
    }
   ],
   "source": [
    "df.head()"
   ]
  },
  {
   "cell_type": "code",
   "execution_count": 37,
   "id": "b2e09984",
   "metadata": {
    "id": "b2e09984",
    "outputId": "b010ad80-2910-49e9-a409-06de09a5c754"
   },
   "outputs": [
    {
     "data": {
      "text/html": [
       "<div>\n",
       "<style scoped>\n",
       "    .dataframe tbody tr th:only-of-type {\n",
       "        vertical-align: middle;\n",
       "    }\n",
       "\n",
       "    .dataframe tbody tr th {\n",
       "        vertical-align: top;\n",
       "    }\n",
       "\n",
       "    .dataframe thead th {\n",
       "        text-align: right;\n",
       "    }\n",
       "</style>\n",
       "<table border=\"1\" class=\"dataframe\">\n",
       "  <thead>\n",
       "    <tr style=\"text-align: right;\">\n",
       "      <th></th>\n",
       "      <th>Date</th>\n",
       "      <th>SPX</th>\n",
       "      <th>GLD</th>\n",
       "      <th>USO</th>\n",
       "      <th>SLV</th>\n",
       "      <th>EUR/USD</th>\n",
       "    </tr>\n",
       "  </thead>\n",
       "  <tbody>\n",
       "    <tr>\n",
       "      <th>2285</th>\n",
       "      <td>5/8/2018</td>\n",
       "      <td>2671.919922</td>\n",
       "      <td>124.589996</td>\n",
       "      <td>14.0600</td>\n",
       "      <td>15.5100</td>\n",
       "      <td>1.186789</td>\n",
       "    </tr>\n",
       "    <tr>\n",
       "      <th>2286</th>\n",
       "      <td>5/9/2018</td>\n",
       "      <td>2697.790039</td>\n",
       "      <td>124.330002</td>\n",
       "      <td>14.3700</td>\n",
       "      <td>15.5300</td>\n",
       "      <td>1.184722</td>\n",
       "    </tr>\n",
       "    <tr>\n",
       "      <th>2287</th>\n",
       "      <td>5/10/2018</td>\n",
       "      <td>2723.070068</td>\n",
       "      <td>125.180000</td>\n",
       "      <td>14.4100</td>\n",
       "      <td>15.7400</td>\n",
       "      <td>1.191753</td>\n",
       "    </tr>\n",
       "    <tr>\n",
       "      <th>2288</th>\n",
       "      <td>5/14/2018</td>\n",
       "      <td>2730.129883</td>\n",
       "      <td>124.489998</td>\n",
       "      <td>14.3800</td>\n",
       "      <td>15.5600</td>\n",
       "      <td>1.193118</td>\n",
       "    </tr>\n",
       "    <tr>\n",
       "      <th>2289</th>\n",
       "      <td>5/16/2018</td>\n",
       "      <td>2725.780029</td>\n",
       "      <td>122.543800</td>\n",
       "      <td>14.4058</td>\n",
       "      <td>15.4542</td>\n",
       "      <td>1.182033</td>\n",
       "    </tr>\n",
       "  </tbody>\n",
       "</table>\n",
       "</div>"
      ],
      "text/plain": [
       "           Date          SPX         GLD      USO      SLV   EUR/USD\n",
       "2285   5/8/2018  2671.919922  124.589996  14.0600  15.5100  1.186789\n",
       "2286   5/9/2018  2697.790039  124.330002  14.3700  15.5300  1.184722\n",
       "2287  5/10/2018  2723.070068  125.180000  14.4100  15.7400  1.191753\n",
       "2288  5/14/2018  2730.129883  124.489998  14.3800  15.5600  1.193118\n",
       "2289  5/16/2018  2725.780029  122.543800  14.4058  15.4542  1.182033"
      ]
     },
     "execution_count": 37,
     "metadata": {},
     "output_type": "execute_result"
    }
   ],
   "source": [
    "df.tail()"
   ]
  },
  {
   "cell_type": "code",
   "execution_count": 38,
   "id": "015ee7b3",
   "metadata": {
    "id": "015ee7b3",
    "outputId": "c9b04f2c-f425-4d58-f745-d617739812d3"
   },
   "outputs": [
    {
     "data": {
      "text/plain": [
       "(2290, 6)"
      ]
     },
     "execution_count": 38,
     "metadata": {},
     "output_type": "execute_result"
    }
   ],
   "source": [
    "df.shape"
   ]
  },
  {
   "cell_type": "code",
   "execution_count": 39,
   "id": "734059fb",
   "metadata": {
    "id": "734059fb",
    "outputId": "e40dfcd5-e836-4a12-ef3a-3fa977f7251c"
   },
   "outputs": [
    {
     "name": "stdout",
     "output_type": "stream",
     "text": [
      "<class 'pandas.core.frame.DataFrame'>\n",
      "RangeIndex: 2290 entries, 0 to 2289\n",
      "Data columns (total 6 columns):\n",
      " #   Column   Non-Null Count  Dtype  \n",
      "---  ------   --------------  -----  \n",
      " 0   Date     2290 non-null   object \n",
      " 1   SPX      2290 non-null   float64\n",
      " 2   GLD      2290 non-null   float64\n",
      " 3   USO      2290 non-null   float64\n",
      " 4   SLV      2290 non-null   float64\n",
      " 5   EUR/USD  2290 non-null   float64\n",
      "dtypes: float64(5), object(1)\n",
      "memory usage: 107.5+ KB\n"
     ]
    }
   ],
   "source": [
    "df.info()"
   ]
  },
  {
   "cell_type": "code",
   "execution_count": 40,
   "id": "6f1f7f0b",
   "metadata": {
    "id": "6f1f7f0b",
    "outputId": "f0ba417a-923f-4739-83ec-833383e4f8a2"
   },
   "outputs": [
    {
     "data": {
      "text/plain": [
       "Date       0\n",
       "SPX        0\n",
       "GLD        0\n",
       "USO        0\n",
       "SLV        0\n",
       "EUR/USD    0\n",
       "dtype: int64"
      ]
     },
     "execution_count": 40,
     "metadata": {},
     "output_type": "execute_result"
    }
   ],
   "source": [
    "df.isnull().sum()"
   ]
  },
  {
   "cell_type": "code",
   "execution_count": 41,
   "id": "2109c8a9",
   "metadata": {
    "id": "2109c8a9",
    "outputId": "4da6d7a4-02d5-4ae7-8551-87417ab0fedb"
   },
   "outputs": [
    {
     "data": {
      "text/html": [
       "<div>\n",
       "<style scoped>\n",
       "    .dataframe tbody tr th:only-of-type {\n",
       "        vertical-align: middle;\n",
       "    }\n",
       "\n",
       "    .dataframe tbody tr th {\n",
       "        vertical-align: top;\n",
       "    }\n",
       "\n",
       "    .dataframe thead th {\n",
       "        text-align: right;\n",
       "    }\n",
       "</style>\n",
       "<table border=\"1\" class=\"dataframe\">\n",
       "  <thead>\n",
       "    <tr style=\"text-align: right;\">\n",
       "      <th></th>\n",
       "      <th>SPX</th>\n",
       "      <th>GLD</th>\n",
       "      <th>USO</th>\n",
       "      <th>SLV</th>\n",
       "      <th>EUR/USD</th>\n",
       "    </tr>\n",
       "  </thead>\n",
       "  <tbody>\n",
       "    <tr>\n",
       "      <th>count</th>\n",
       "      <td>2290.000000</td>\n",
       "      <td>2290.000000</td>\n",
       "      <td>2290.000000</td>\n",
       "      <td>2290.000000</td>\n",
       "      <td>2290.000000</td>\n",
       "    </tr>\n",
       "    <tr>\n",
       "      <th>mean</th>\n",
       "      <td>1654.315776</td>\n",
       "      <td>122.732875</td>\n",
       "      <td>31.842221</td>\n",
       "      <td>20.084997</td>\n",
       "      <td>1.283653</td>\n",
       "    </tr>\n",
       "    <tr>\n",
       "      <th>std</th>\n",
       "      <td>519.111540</td>\n",
       "      <td>23.283346</td>\n",
       "      <td>19.523517</td>\n",
       "      <td>7.092566</td>\n",
       "      <td>0.131547</td>\n",
       "    </tr>\n",
       "    <tr>\n",
       "      <th>min</th>\n",
       "      <td>676.530029</td>\n",
       "      <td>70.000000</td>\n",
       "      <td>7.960000</td>\n",
       "      <td>8.850000</td>\n",
       "      <td>1.039047</td>\n",
       "    </tr>\n",
       "    <tr>\n",
       "      <th>25%</th>\n",
       "      <td>1239.874969</td>\n",
       "      <td>109.725000</td>\n",
       "      <td>14.380000</td>\n",
       "      <td>15.570000</td>\n",
       "      <td>1.171313</td>\n",
       "    </tr>\n",
       "    <tr>\n",
       "      <th>50%</th>\n",
       "      <td>1551.434998</td>\n",
       "      <td>120.580002</td>\n",
       "      <td>33.869999</td>\n",
       "      <td>17.268500</td>\n",
       "      <td>1.303297</td>\n",
       "    </tr>\n",
       "    <tr>\n",
       "      <th>75%</th>\n",
       "      <td>2073.010070</td>\n",
       "      <td>132.840004</td>\n",
       "      <td>37.827501</td>\n",
       "      <td>22.882500</td>\n",
       "      <td>1.369971</td>\n",
       "    </tr>\n",
       "    <tr>\n",
       "      <th>max</th>\n",
       "      <td>2872.870117</td>\n",
       "      <td>184.589996</td>\n",
       "      <td>117.480003</td>\n",
       "      <td>47.259998</td>\n",
       "      <td>1.598798</td>\n",
       "    </tr>\n",
       "  </tbody>\n",
       "</table>\n",
       "</div>"
      ],
      "text/plain": [
       "               SPX          GLD          USO          SLV      EUR/USD\n",
       "count  2290.000000  2290.000000  2290.000000  2290.000000  2290.000000\n",
       "mean   1654.315776   122.732875    31.842221    20.084997     1.283653\n",
       "std     519.111540    23.283346    19.523517     7.092566     0.131547\n",
       "min     676.530029    70.000000     7.960000     8.850000     1.039047\n",
       "25%    1239.874969   109.725000    14.380000    15.570000     1.171313\n",
       "50%    1551.434998   120.580002    33.869999    17.268500     1.303297\n",
       "75%    2073.010070   132.840004    37.827501    22.882500     1.369971\n",
       "max    2872.870117   184.589996   117.480003    47.259998     1.598798"
      ]
     },
     "execution_count": 41,
     "metadata": {},
     "output_type": "execute_result"
    }
   ],
   "source": [
    "df.describe()"
   ]
  },
  {
   "cell_type": "code",
   "execution_count": 42,
   "id": "c3302604",
   "metadata": {
    "id": "c3302604"
   },
   "outputs": [],
   "source": [
    "correlation=df.corr()"
   ]
  },
  {
   "cell_type": "code",
   "execution_count": 43,
   "id": "eb710ad5",
   "metadata": {
    "id": "eb710ad5",
    "outputId": "2760d890-c18e-4238-bf88-93b2eb7e9b66"
   },
   "outputs": [
    {
     "data": {
      "text/plain": [
       "<AxesSubplot:>"
      ]
     },
     "execution_count": 43,
     "metadata": {},
     "output_type": "execute_result"
    },
    {
     "data": {
      "image/png": "[encoded data removed]",
      "text/plain": [
       "<Figure size 432x432 with 2 Axes>"
      ]
     },
     "metadata": {
      "needs_background": "light"
     },
     "output_type": "display_data"
    }
   ],
   "source": [
    "#constructing a heatmap to understand the correlation\n",
    "plt.figure(figsize= (6,6))\n",
    "sns.heatmap(correlation, cbar=True, square=True, fmt='.1f', annot=True, annot_kws={'size':8}, cmap='Blues')"
   ]
  },
  {
   "cell_type": "code",
   "execution_count": 44,
   "id": "e5493f0d",
   "metadata": {
    "id": "e5493f0d",
    "outputId": "2989263b-d8fe-493a-c6a0-2a989f365a74"
   },
   "outputs": [
    {
     "name": "stdout",
     "output_type": "stream",
     "text": [
      "SPX        0.049345\n",
      "GLD        1.000000\n",
      "USO       -0.186360\n",
      "SLV        0.866632\n",
      "EUR/USD   -0.024375\n",
      "Name: GLD, dtype: float64\n"
     ]
    }
   ],
   "source": [
    "#correlation values of GLD\n",
    "print(correlation['GLD'])"
   ]
  },
  {
   "cell_type": "code",
   "execution_count": 45,
   "id": "8f77146d",
   "metadata": {
    "id": "8f77146d",
    "outputId": "4a15d9a5-4de0-475d-8f63-5f70f48043db"
   },
   "outputs": [
    {
     "name": "stderr",
     "output_type": "stream",
     "text": [
      "C:\\Users\\Darshan G\\anaconda3\\lib\\site-packages\\seaborn\\distributions.py:2619: FutureWarning: `distplot` is a deprecated function and will be removed in a future version. Please adapt your code to use either `displot` (a figure-level function with similar flexibility) or `histplot` (an axes-level function for histograms).\n",
      "  warnings.warn(msg, FutureWarning)\n"
     ]
    },
    {
     "data": {
      "text/plain": [
       "<AxesSubplot:xlabel='GLD', ylabel='Density'>"
      ]
     },
     "execution_count": 45,
     "metadata": {},
     "output_type": "execute_result"
    },
    {
     "data": {
      "image/png": "[encoded data removed]",
      "text/plain": [
       "<Figure size 432x288 with 1 Axes>"
      ]
     },
     "metadata": {
      "needs_background": "light"
     },
     "output_type": "display_data"
    }
   ],
   "source": [
    "#checking the distribution of the GLD Price\n",
    "sns.distplot(df['GLD'],color='green')"
   ]
  },
  {
   "cell_type": "markdown",
   "id": "b0121c5e",
   "metadata": {
    "id": "b0121c5e"
   },
   "source": [
    "spliting the Features and Target"
   ]
  },
  {
   "cell_type": "code",
   "execution_count": 46,
   "id": "305ec8ff",
   "metadata": {
    "id": "305ec8ff"
   },
   "outputs": [],
   "source": [
    "x=df.drop(['Date','GLD'],axis=1)\n",
    "y=df['GLD']"
   ]
  },
  {
   "cell_type": "code",
   "execution_count": 47,
   "id": "ec4cd07b",
   "metadata": {
    "id": "ec4cd07b",
    "outputId": "d6205d55-7871-4a5c-d777-08e5513a0697"
   },
   "outputs": [
    {
     "data": {
      "text/html": [
       "<div>\n",
       "<style scoped>\n",
       "    .dataframe tbody tr th:only-of-type {\n",
       "        vertical-align: middle;\n",
       "    }\n",
       "\n",
       "    .dataframe tbody tr th {\n",
       "        vertical-align: top;\n",
       "    }\n",
       "\n",
       "    .dataframe thead th {\n",
       "        text-align: right;\n",
       "    }\n",
       "</style>\n",
       "<table border=\"1\" class=\"dataframe\">\n",
       "  <thead>\n",
       "    <tr style=\"text-align: right;\">\n",
       "      <th></th>\n",
       "      <th>SPX</th>\n",
       "      <th>USO</th>\n",
       "      <th>SLV</th>\n",
       "      <th>EUR/USD</th>\n",
       "    </tr>\n",
       "  </thead>\n",
       "  <tbody>\n",
       "    <tr>\n",
       "      <th>0</th>\n",
       "      <td>1447.160034</td>\n",
       "      <td>78.470001</td>\n",
       "      <td>15.1800</td>\n",
       "      <td>1.471692</td>\n",
       "    </tr>\n",
       "    <tr>\n",
       "      <th>1</th>\n",
       "      <td>1447.160034</td>\n",
       "      <td>78.370003</td>\n",
       "      <td>15.2850</td>\n",
       "      <td>1.474491</td>\n",
       "    </tr>\n",
       "    <tr>\n",
       "      <th>2</th>\n",
       "      <td>1411.630005</td>\n",
       "      <td>77.309998</td>\n",
       "      <td>15.1670</td>\n",
       "      <td>1.475492</td>\n",
       "    </tr>\n",
       "    <tr>\n",
       "      <th>3</th>\n",
       "      <td>1416.180054</td>\n",
       "      <td>75.500000</td>\n",
       "      <td>15.0530</td>\n",
       "      <td>1.468299</td>\n",
       "    </tr>\n",
       "    <tr>\n",
       "      <th>4</th>\n",
       "      <td>1390.189941</td>\n",
       "      <td>76.059998</td>\n",
       "      <td>15.5900</td>\n",
       "      <td>1.557099</td>\n",
       "    </tr>\n",
       "    <tr>\n",
       "      <th>...</th>\n",
       "      <td>...</td>\n",
       "      <td>...</td>\n",
       "      <td>...</td>\n",
       "      <td>...</td>\n",
       "    </tr>\n",
       "    <tr>\n",
       "      <th>2285</th>\n",
       "      <td>2671.919922</td>\n",
       "      <td>14.060000</td>\n",
       "      <td>15.5100</td>\n",
       "      <td>1.186789</td>\n",
       "    </tr>\n",
       "    <tr>\n",
       "      <th>2286</th>\n",
       "      <td>2697.790039</td>\n",
       "      <td>14.370000</td>\n",
       "      <td>15.5300</td>\n",
       "      <td>1.184722</td>\n",
       "    </tr>\n",
       "    <tr>\n",
       "      <th>2287</th>\n",
       "      <td>2723.070068</td>\n",
       "      <td>14.410000</td>\n",
       "      <td>15.7400</td>\n",
       "      <td>1.191753</td>\n",
       "    </tr>\n",
       "    <tr>\n",
       "      <th>2288</th>\n",
       "      <td>2730.129883</td>\n",
       "      <td>14.380000</td>\n",
       "      <td>15.5600</td>\n",
       "      <td>1.193118</td>\n",
       "    </tr>\n",
       "    <tr>\n",
       "      <th>2289</th>\n",
       "      <td>2725.780029</td>\n",
       "      <td>14.405800</td>\n",
       "      <td>15.4542</td>\n",
       "      <td>1.182033</td>\n",
       "    </tr>\n",
       "  </tbody>\n",
       "</table>\n",
       "<p>2290 rows × 4 columns</p>\n",
       "</div>"
      ],
      "text/plain": [
       "              SPX        USO      SLV   EUR/USD\n",
       "0     1447.160034  78.470001  15.1800  1.471692\n",
       "1     1447.160034  78.370003  15.2850  1.474491\n",
       "2     1411.630005  77.309998  15.1670  1.475492\n",
       "3     1416.180054  75.500000  15.0530  1.468299\n",
       "4     1390.189941  76.059998  15.5900  1.557099\n",
       "...           ...        ...      ...       ...\n",
       "2285  2671.919922  14.060000  15.5100  1.186789\n",
       "2286  2697.790039  14.370000  15.5300  1.184722\n",
       "2287  2723.070068  14.410000  15.7400  1.191753\n",
       "2288  2730.129883  14.380000  15.5600  1.193118\n",
       "2289  2725.780029  14.405800  15.4542  1.182033\n",
       "\n",
       "[2290 rows x 4 columns]"
      ]
     },
     "execution_count": 47,
     "metadata": {},
     "output_type": "execute_result"
    }
   ],
   "source": [
    "x"
   ]
  },
  {
   "cell_type": "code",
   "execution_count": 48,
   "id": "b1c9bbdf",
   "metadata": {
    "id": "b1c9bbdf",
    "outputId": "f0a7a1a0-2bd6-4ee0-d054-e89c8b4dda89"
   },
   "outputs": [
    {
     "data": {
      "text/plain": [
       "0        84.860001\n",
       "1        85.570000\n",
       "2        85.129997\n",
       "3        84.769997\n",
       "4        86.779999\n",
       "           ...    \n",
       "2285    124.589996\n",
       "2286    124.330002\n",
       "2287    125.180000\n",
       "2288    124.489998\n",
       "2289    122.543800\n",
       "Name: GLD, Length: 2290, dtype: float64"
      ]
     },
     "execution_count": 48,
     "metadata": {},
     "output_type": "execute_result"
    }
   ],
   "source": [
    "y"
   ]
  },
  {
   "cell_type": "markdown",
   "id": "be6bc290",
   "metadata": {
    "id": "be6bc290"
   },
   "source": [
    "spliting into Training data and Test data"
   ]
  },
  {
   "cell_type": "code",
   "execution_count": 49,
   "id": "575b7024",
   "metadata": {
    "id": "575b7024"
   },
   "outputs": [],
   "source": [
    "x_train,x_test,y_train,y_test=train_test_split(x,y,test_size=0.2,random_state=2)"
   ]
  },
  {
   "cell_type": "markdown",
   "id": "c6e92e0e",
   "metadata": {
    "id": "c6e92e0e"
   },
   "source": [
    "Model Training:Random Forest Regressor"
   ]
  },
  {
   "cell_type": "code",
   "execution_count": 50,
   "id": "9a20e389",
   "metadata": {
    "id": "9a20e389"
   },
   "outputs": [],
   "source": [
    "regressor=RandomForestRegressor(n_estimators=100)"
   ]
  },
  {
   "cell_type": "code",
   "execution_count": 51,
   "id": "5d371c84",
   "metadata": {
    "id": "5d371c84",
    "outputId": "bc0d6432-205f-40ca-ca42-2255ba4bbf34"
   },
   "outputs": [
    {
     "data": {
      "text/html": [
       "<style>#sk-container-id-1 {color: black;background-color: white;}#sk-container-id-1 pre{padding: 0;}#sk-container-id-1 div.sk-toggleable {background-color: white;}#sk-container-id-1 label.sk-toggleable__label {cursor: pointer;display: block;width: 100%;margin-bottom: 0;padding: 0.3em;box-sizing: border-box;text-align: center;}#sk-container-id-1 label.sk-toggleable__label-arrow:before {content: \"▸\";float: left;margin-right: 0.25em;color: #696969;}#sk-container-id-1 label.sk-toggleable__label-arrow:hover:before {color: black;}#sk-container-id-1 div.sk-estimator:hover label.sk-toggleable__label-arrow:before {color: black;}#sk-container-id-1 div.sk-toggleable__content {max-height: 0;max-width: 0;overflow: hidden;text-align: left;background-color: #f0f8ff;}#sk-container-id-1 div.sk-toggleable__content pre {margin: 0.2em;color: black;border-radius: 0.25em;background-color: #f0f8ff;}#sk-container-id-1 input.sk-toggleable__control:checked~div.sk-toggleable__content {max-height: 200px;max-width: 100%;overflow: auto;}#sk-container-id-1 input.sk-toggleable__control:checked~label.sk-toggleable__label-arrow:before {content: \"▾\";}#sk-container-id-1 div.sk-estimator input.sk-toggleable__control:checked~label.sk-toggleable__label {background-color: #d4ebff;}#sk-container-id-1 div.sk-label input.sk-toggleable__control:checked~label.sk-toggleable__label {background-color: #d4ebff;}#sk-container-id-1 input.sk-hidden--visually {border: 0;clip: rect(1px 1px 1px 1px);clip: rect(1px, 1px, 1px, 1px);height: 1px;margin: -1px;overflow: hidden;padding: 0;position: absolute;width: 1px;}#sk-container-id-1 div.sk-estimator {font-family: monospace;background-color: #f0f8ff;border: 1px dotted black;border-radius: 0.25em;box-sizing: border-box;margin-bottom: 0.5em;}#sk-container-id-1 div.sk-estimator:hover {background-color: #d4ebff;}#sk-container-id-1 div.sk-parallel-item::after {content: \"\";width: 100%;border-bottom: 1px solid gray;flex-grow: 1;}#sk-container-id-1 div.sk-label:hover label.sk-toggleable__label {background-color: #d4ebff;}#sk-container-id-1 div.sk-serial::before {content: \"\";position: absolute;border-left: 1px solid gray;box-sizing: border-box;top: 0;bottom: 0;left: 50%;z-index: 0;}#sk-container-id-1 div.sk-serial {display: flex;flex-direction: column;align-items: center;background-color: white;padding-right: 0.2em;padding-left: 0.2em;position: relative;}#sk-container-id-1 div.sk-item {position: relative;z-index: 1;}#sk-container-id-1 div.sk-parallel {display: flex;align-items: stretch;justify-content: center;background-color: white;position: relative;}#sk-container-id-1 div.sk-item::before, #sk-container-id-1 div.sk-parallel-item::before {content: \"\";position: absolute;border-left: 1px solid gray;box-sizing: border-box;top: 0;bottom: 0;left: 50%;z-index: -1;}#sk-container-id-1 div.sk-parallel-item {display: flex;flex-direction: column;z-index: 1;position: relative;background-color: white;}#sk-container-id-1 div.sk-parallel-item:first-child::after {align-self: flex-end;width: 50%;}#sk-container-id-1 div.sk-parallel-item:last-child::after {align-self: flex-start;width: 50%;}#sk-container-id-1 div.sk-parallel-item:only-child::after {width: 0;}#sk-container-id-1 div.sk-dashed-wrapped {border: 1px dashed gray;margin: 0 0.4em 0.5em 0.4em;box-sizing: border-box;padding-bottom: 0.4em;background-color: white;}#sk-container-id-1 div.sk-label label {font-family: monospace;font-weight: bold;display: inline-block;line-height: 1.2em;}#sk-container-id-1 div.sk-label-container {text-align: center;}#sk-container-id-1 div.sk-container {/* jupyter's `normalize.less` sets `[hidden] { display: none; }` but bootstrap.min.css set `[hidden] { display: none !important; }` so we also need the `!important` here to be able to override the default hidden behavior on the sphinx rendered scikit-learn.org. See: https://github.com/scikit-learn/scikit-learn/issues/21755 */display: inline-block !important;position: relative;}#sk-container-id-1 div.sk-text-repr-fallback {display: none;}</style><div id=\"sk-container-id-1\" class=\"sk-top-container\"><div class=\"sk-text-repr-fallback\"><pre>RandomForestRegressor()</pre><b>In a Jupyter environment, please rerun this cell to show the HTML representation or trust the notebook. <br />On GitHub, the HTML representation is unable to render, please try loading this page with nbviewer.org.</b></div><div class=\"sk-container\" hidden><div class=\"sk-item\"><div class=\"sk-estimator sk-toggleable\"><input class=\"sk-toggleable__control sk-hidden--visually\" id=\"sk-estimator-id-1\" type=\"checkbox\" checked><label for=\"sk-estimator-id-1\" class=\"sk-toggleable__label sk-toggleable__label-arrow\">RandomForestRegressor</label><div class=\"sk-toggleable__content\"><pre>RandomForestRegressor()</pre></div></div></div></div></div>"
      ],
      "text/plain": [
       "RandomForestRegressor()"
      ]
     },
     "execution_count": 51,
     "metadata": {},
     "output_type": "execute_result"
    }
   ],
   "source": [
    "#training the model\n",
    "regressor.fit(x_train,y_train)"
   ]
  },
  {
   "cell_type": "markdown",
   "id": "e9d383a8",
   "metadata": {
    "id": "e9d383a8"
   },
   "source": [
    "Model Evaluation"
   ]
  },
  {
   "cell_type": "code",
   "execution_count": 52,
   "id": "1592c373",
   "metadata": {
    "id": "1592c373"
   },
   "outputs": [],
   "source": [
    "#prediction on Test Data\n",
    "test_data_prediction=regressor.predict(x_test)"
   ]
  },
  {
   "cell_type": "code",
   "execution_count": 53,
   "id": "dc2be726",
   "metadata": {
    "id": "dc2be726",
    "outputId": "5bc3f957-f724-4a46-b023-0cdd629120ed"
   },
   "outputs": [
    {
     "name": "stdout",
     "output_type": "stream",
     "text": [
      "[168.43949924  82.17019985 115.91360062 127.68580085 120.89130126\n",
      " 154.74299725 150.4958987  126.0731002  117.55719879 126.1904001\n",
      " 116.61730125 172.01530072 142.06919911 167.74589871 115.14440031\n",
      " 117.42930054 138.92290314 170.240301   159.62280315 157.37779958\n",
      " 155.16580056 125.25020001 176.09189934 157.41080325 125.27240014\n",
      "  93.60799973  78.01100003 120.66080005 119.06929938 167.49100044\n",
      "  88.20540014 125.42290049  90.86460081 117.63260036 121.27149893\n",
      " 136.33490178 115.46580109 114.98910055 146.98869966 107.13010094\n",
      " 104.14120242  87.16849766 126.47050046 117.87010045 154.01569918\n",
      " 119.59140014 108.48779965 108.52789829  93.22460055 127.06419751\n",
      "  74.51410032 113.70169908 121.48440006 111.1890991  118.85809895\n",
      " 120.20419965 159.06530006 167.61430099 146.85249662  85.77979891\n",
      "  94.15490041  86.78589917  90.47180022 119.06490081 126.50570066\n",
      " 127.53370003 169.80710032 122.23589911 117.32419923  98.45939993\n",
      " 168.62250199 143.36109841 132.3451025  121.2590024  121.75209915\n",
      " 119.78250059 114.76530146 118.3249006  107.06010096 127.95530085\n",
      " 114.06570009 106.9307     117.09100004 119.70339884  88.87580044\n",
      "  88.17269854 146.75840223 127.23959958 113.19730062 110.1072984\n",
      " 108.35569924  77.94929887 170.01410229 114.0218993  121.54749922\n",
      " 127.76840158 155.00869809  91.82269939 137.14850062 159.30720348\n",
      " 125.57940073 125.62820098 130.68950165 114.97780073 119.76260002\n",
      "  92.0157     110.4015988  167.34729931 156.40129948 114.17069957\n",
      " 106.7391011   79.50069976 113.39310054 125.79320047 107.33629963\n",
      " 119.33290111 156.24600354 159.0530985  120.31219995 134.21580317\n",
      " 101.47249971 117.45119794 119.28230014 112.91700107 102.82769902\n",
      " 159.71389863  98.43000047 147.2075986  125.70130091 169.97609825\n",
      " 126.10879816 127.19999767 127.52680236 113.79139938 113.37810084\n",
      " 123.30299901 102.21059913  89.03239989 124.44940004 102.09299918\n",
      " 106.96659904 113.59850039 117.64350076  99.0917992  121.76750066\n",
      " 163.10670001  87.44519878 106.76559973 117.09910088 127.74680088\n",
      " 124.23470079  80.79839902 120.11790068 158.20129809  87.99349953\n",
      " 110.40629955 118.81309919 172.629999   103.00749888 105.37880043\n",
      " 122.63680016 158.04829786  87.81769831  93.05180047 112.82030027\n",
      " 177.1558994  114.15359995 119.23180013  94.74910064 125.91970005\n",
      " 165.94160136 114.8381007  116.59120131  88.26829846 148.7913008\n",
      " 120.45549918  89.52039993 112.13269997 117.46010065 118.64700108\n",
      "  87.98599942  94.2063997  117.00410019 118.40070187 120.04310049\n",
      " 126.87069796 121.95379953 150.06849989 165.62810058 118.62069947\n",
      " 120.19060117 150.77950045 118.59379886 172.90159903 105.79229943\n",
      " 104.92360106 149.33990096 113.81510098 124.97210096 147.49389955\n",
      " 119.67050113 115.16460037 112.5722999  113.52640212 141.06440115\n",
      " 117.78339774 102.89540014 115.87710121 103.29000157  98.9102002\n",
      " 117.44420075  90.68910025  91.68180038 153.495499   102.67289967\n",
      " 154.50100092 114.45910186 138.81700095  90.19339891 115.49539952\n",
      " 114.50809966 122.74100078 121.62140034 165.46060117  92.90909973\n",
      " 135.07240063 121.30039948 120.74250054 104.52929977 141.87660285\n",
      " 122.01659899 116.61240053 113.79990091 127.44349676 122.74389931\n",
      " 125.81419955 121.21170052  86.81669882 132.50940224 145.76290174\n",
      "  92.70179971 158.99109957 158.90000222 126.30899895 165.81969939\n",
      " 108.72779942 109.71380056 103.61049817  94.14480062 127.86550269\n",
      " 107.08730037 161.1685999  121.6793005  132.08909973 130.68980149\n",
      " 160.4495001   90.24219879 175.49830207 127.10580106 126.73839842\n",
      "  86.36939932 124.48939957 150.0910975   89.68610012 106.72689981\n",
      " 109.08429974  83.85579898 136.46700004 155.28170242 138.97960329\n",
      "  73.52160028 152.26600177 126.2204003  126.78659988 127.52909925\n",
      " 108.56269928 156.30420013 114.69890087 117.03200123 125.66429957\n",
      " 154.07200149 121.35009959 156.43559836  92.95630055 125.48220131\n",
      " 125.55240052  88.02990062  92.03599903 126.40599896 128.32980348\n",
      " 113.25410046 117.6951974  120.80030027 127.40179743 119.68390115\n",
      " 136.90270087  93.9727997  120.01630034 113.37000086  94.25989953\n",
      " 108.85269972  87.56419933 109.21949937  89.65769969  92.44290012\n",
      " 131.81310286 162.30200114  89.54660014 119.77720061 133.54160192\n",
      " 123.85620024 128.45210174 102.0573987   88.97189872 131.81040081\n",
      " 120.08460063 108.68069981 168.85200034 115.26509994  86.58449849\n",
      " 118.77060059  91.06909997 161.45610042 116.74030069 121.78669986\n",
      " 160.06429821 120.24209945 112.72259889 108.53069919 126.83590043\n",
      "  76.12280032 102.98839977 127.81820268 121.93459916  92.66250013\n",
      " 131.89930047 118.11190129 115.53669975 154.44510264 159.70760115\n",
      " 110.05209974 154.34259793 119.26780087 160.37480056 118.30050046\n",
      " 157.4958004  115.12729944 116.75160041 149.10579969 114.91800035\n",
      " 125.74619881 166.56509906 117.79920016 125.11009965 153.09670395\n",
      " 153.48240182 132.19090084 114.73770032 121.35170217 124.73670075\n",
      "  89.74050064 123.31859987 155.15920214 111.57780004 106.65879984\n",
      " 161.86160127 118.59189963 165.61760006 133.98490115 114.59309944\n",
      " 153.13929911 168.51349946 114.98600024 114.13720111 158.14339862\n",
      "  85.62469821 127.15640037 128.02929994 128.92270029 124.2613006\n",
      " 123.88590091  90.52080018 153.1658      97.28189959 136.89670065\n",
      "  89.12389921 106.97390005 115.00680017 112.94040112 124.55119927\n",
      "  91.38719875 125.45660125 162.33039885 119.80639856 165.1016012\n",
      " 126.84159783 112.2383001  127.52609936  94.80949898  91.05439981\n",
      " 103.63279896 120.84000033  82.88339967 126.46019981 160.33650477\n",
      " 117.53290106 118.22810001 119.60069994 122.43379949 120.04450122\n",
      " 121.48060006 118.28800039 107.02870007 148.29419992 126.43599789\n",
      " 115.67110088  73.81890004 127.84000073 154.69330115 122.27690001\n",
      " 125.610501    88.67480032 103.10499849 124.8164006  120.2755\n",
      "  73.42420087 151.57960062 121.20850037 104.60349978  86.61639782\n",
      " 115.15259905 172.26149873 119.93860039 159.93699724 113.26149958\n",
      " 121.30140023 118.38590113  95.83709987 118.53679988 125.91670068\n",
      " 118.40809946  95.85400048 154.16100148 122.21900007 147.53669994\n",
      " 159.19460255 113.9552005  122.47799953 149.49489784 127.15320039\n",
      " 166.05020066 136.14360046 120.04479973 167.76719897 108.81719889\n",
      " 121.96109851 138.11550157 106.57529926]\n"
     ]
    }
   ],
   "source": [
    "print(test_data_prediction)"
   ]
  },
  {
   "cell_type": "code",
   "execution_count": 54,
   "id": "6cc4feb5",
   "metadata": {
    "id": "6cc4feb5",
    "outputId": "2a93e203-926a-406b-9e20-27d358736aca"
   },
   "outputs": [
    {
     "name": "stdout",
     "output_type": "stream",
     "text": [
      "R squared error : 0.9893725628210456\n"
     ]
    }
   ],
   "source": [
    "#R squared error\n",
    "error_score=metrics.r2_score(y_test,test_data_prediction)\n",
    "print(\"R squared error :\",error_score)"
   ]
  },
  {
   "cell_type": "markdown",
   "id": "84c16890",
   "metadata": {
    "id": "84c16890"
   },
   "source": [
    "\n",
    "compare the Actual values and Predicted values in a Plot"
   ]
  },
  {
   "cell_type": "code",
   "execution_count": 55,
   "id": "ea312810",
   "metadata": {
    "id": "ea312810"
   },
   "outputs": [],
   "source": [
    "y_test=list(y_test)"
   ]
  },
  {
   "cell_type": "code",
   "execution_count": 56,
   "id": "2a9b8529",
   "metadata": {
    "id": "2a9b8529",
    "outputId": "3ef4b815-aa98-4cca-89dc-771015870a57"
   },
   "outputs": [
    {
     "data": {
      "image/png": "[encoded data removed]",
      "text/plain": [
       "<Figure size 432x288 with 1 Axes>"
      ]
     },
     "metadata": {
      "needs_background": "light"
     },
     "output_type": "display_data"
    }
   ],
   "source": [
    "plt.plot(y_test, color='blue',label='Actual Value')\n",
    "plt.plot(test_data_prediction, color='green', label='Predicted Value')\n",
    "plt.xlabel('Number of values')\n",
    "plt.ylabel('GLD Price')\n",
    "plt.legend()\n",
    "plt.show()"
   ]
  }
 ],
 "metadata": {
  "colab": {
   "name": "Project On Gold Price Prediction.ipynb",
   "provenance": []
  },
  "kernelspec": {
   "display_name": "Python 3 (ipykernel)",
   "language": "python",
   "name": "python3"
  },
  "language_info": {
   "codemirror_mode": {
    "name": "ipython",
    "version": 3
   },
   "file_extension": ".py",
   "mimetype": "text/x-python",
   "name": "python",
   "nbconvert_exporter": "python",
   "pygments_lexer": "ipython3",
   "version": "3.9.7"
  }
 },
 "nbformat": 4,
 "nbformat_minor": 5
}
